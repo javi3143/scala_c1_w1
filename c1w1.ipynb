{
 "cells": [
  {
   "cell_type": "markdown",
   "metadata": {},
   "source": [
    "# Pascal triangle"
   ]
  },
  {
   "cell_type": "code",
   "execution_count": 16,
   "metadata": {},
   "outputs": [
    {
     "data": {
      "text/plain": [
       "defined \u001b[32mfunction \u001b[36mpascal\u001b[0m"
      ]
     },
     "metadata": {},
     "output_type": "display_data"
    }
   ],
   "source": [
    "def pascal(c: Int, r: Int): Int =\n",
    "    if (c == 0 && r == 0)\n",
    "        return 1\n",
    "    else if (c == 0 || c == r)\n",
    "        return 1\n",
    "    else\n",
    "        return pascal(c - 1, r - 1) + pascal(c, r - 1) "
   ]
  },
  {
   "cell_type": "code",
   "execution_count": 24,
   "metadata": {},
   "outputs": [
    {
     "data": {
      "text/plain": [
       "\u001b[36mres16\u001b[0m: \u001b[32mInt\u001b[0m = \u001b[32m1\u001b[0m"
      ]
     },
     "metadata": {},
     "output_type": "display_data"
    }
   ],
   "source": [
    "pascal(0,2)"
   ]
  },
  {
   "cell_type": "markdown",
   "metadata": {},
   "source": [
    "# Parentheses Balancing"
   ]
  },
  {
   "cell_type": "code",
   "execution_count": 19,
   "metadata": {},
   "outputs": [
    {
     "data": {
      "text/plain": [
       "defined \u001b[32mfunction \u001b[36mbalance\u001b[0m"
      ]
     },
     "metadata": {},
     "output_type": "display_data"
    }
   ],
   "source": [
    "def balance(chars: List[Char]): Boolean = {\n",
    "    def checker(chars: List[Char], numApert: Int): Boolean = {\n",
    "      if (chars.isEmpty) {\n",
    "        numApert == 0\n",
    "      } else {\n",
    "        val h = chars.head\n",
    "        val n =\n",
    "          if (h == '(') numApert + 1\n",
    "          else if (h == ')') numApert - 1\n",
    "          else numApert\n",
    "        if (n >= 0) checker(chars.tail, n)\n",
    "        else false\n",
    "      }\n",
    "    }\n",
    " checker(chars, 0)\n",
    "  }"
   ]
  },
  {
   "cell_type": "code",
   "execution_count": 20,
   "metadata": {},
   "outputs": [
    {
     "data": {
      "text/plain": [
       "\u001b[36mres8\u001b[0m: \u001b[32mBoolean\u001b[0m = false"
      ]
     },
     "metadata": {},
     "output_type": "display_data"
    }
   ],
   "source": [
    "balance(\"(()\".toList)"
   ]
  },
  {
   "cell_type": "markdown",
   "metadata": {},
   "source": [
    "# Exercise 3: Counting Change"
   ]
  },
  {
   "cell_type": "code",
   "execution_count": 24,
   "metadata": {},
   "outputs": [
    {
     "data": {
      "text/plain": [
       "defined \u001b[32mfunction \u001b[36mcountChange\u001b[0m"
      ]
     },
     "metadata": {},
     "output_type": "display_data"
    }
   ],
   "source": [
    "def countChange(money: Int, coins: List[Int]): Int = {\n",
    "    def count(m: Int, c: List[Int]) : Int = {\n",
    "      if (c.isEmpty) 0\n",
    "      else if (m - c.head == 0) 1\n",
    "      else if (m - c.head < 0) 0\n",
    "      else countChange(m - c.head, c) + countChange(m, c.tail)\n",
    "    }\n",
    "    count(money, coins.sorted)\n",
    "  }"
   ]
  },
  {
   "cell_type": "code",
   "execution_count": 25,
   "metadata": {},
   "outputs": [
    {
     "data": {
      "text/plain": [
       "\u001b[36mres13\u001b[0m: \u001b[32mInt\u001b[0m = \u001b[32m2\u001b[0m"
      ]
     },
     "metadata": {},
     "output_type": "display_data"
    }
   ],
   "source": [
    "countChange(3, List(1,2))"
   ]
  }
 ],
 "metadata": {
  "kernelspec": {
   "display_name": "Scala 2.11",
   "language": "scala211",
   "name": "scala211"
  },
  "language_info": {
   "codemirror_mode": "text/x-scala",
   "file_extension": ".scala",
   "mimetype": "text/x-scala",
   "name": "scala211",
   "pygments_lexer": "scala",
   "version": "2.11.6"
  }
 },
 "nbformat": 4,
 "nbformat_minor": 2
}
