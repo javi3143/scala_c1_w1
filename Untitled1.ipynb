{
 "cells": [
  {
   "cell_type": "code",
   "execution_count": 6,
   "metadata": {},
   "outputs": [],
   "source": [
    "def pascal(column, row):\n",
    "    if column == 0 and row == 0:\n",
    "        return 1\n",
    "    elif column == 0 or column == row:\n",
    "        return 1\n",
    "    else:\n",
    "        return pascal(column -1, row - 1) + pascal(column, row - 1)"
   ]
  },
  {
   "cell_type": "code",
   "execution_count": 10,
   "metadata": {},
   "outputs": [
    {
     "data": {
      "text/plain": [
       "2"
      ]
     },
     "execution_count": 10,
     "metadata": {},
     "output_type": "execute_result"
    }
   ],
   "source": [
    "pascal(1,2)"
   ]
  },
  {
   "cell_type": "code",
   "execution_count": 41,
   "metadata": {},
   "outputs": [],
   "source": [
    "def balance(chars):\n",
    "    def checker(dicto, chars):\n",
    "        if chars[0] not in ['(', ')']:\n",
    "            return checker(dicto, chars[1:])\n",
    "        elif dicto['('] < dicto[')']:\n",
    "            return False\n",
    "        elif len(chars) == 1 and chars == '(':\n",
    "            return False\n",
    "        elif len(chars) == 1:\n",
    "            dicto[chars[0]] += 1\n",
    "            if dicto['('] == dicto[')']:\n",
    "                return True\n",
    "            else:\n",
    "                return False\n",
    "        else:\n",
    "            dicto[chars[0]] += 1\n",
    "            return checker(dicto, chars[1:])\n",
    "    dicto = {'(':0, ')':0}\n",
    "    return checker(dicto, chars)"
   ]
  },
  {
   "cell_type": "code",
   "execution_count": 43,
   "metadata": {},
   "outputs": [
    {
     "data": {
      "text/plain": [
       "True"
      ]
     },
     "execution_count": 43,
     "metadata": {},
     "output_type": "execute_result"
    }
   ],
   "source": [
    "listo = []\n",
    "[listo.append(x) for x in '(if (zero? x) max (/ 1 x))']\n",
    "balance(listo)"
   ]
  },
  {
   "cell_type": "code",
   "execution_count": null,
   "metadata": {},
   "outputs": [],
   "source": []
  },
  {
   "cell_type": "code",
   "execution_count": null,
   "metadata": {},
   "outputs": [],
   "source": [
    "def countChange(money, coins):\n",
    "    def f(money, coins):\n",
    "        \n",
    "    if money == 0 or coins == 0:\n",
    "        return 0\n",
    "    else:\n",
    "        return f(money, coins)"
   ]
  }
 ],
 "metadata": {
  "kernelspec": {
   "display_name": "Python 3",
   "language": "python",
   "name": "python3"
  },
  "language_info": {
   "codemirror_mode": {
    "name": "ipython",
    "version": 3
   },
   "file_extension": ".py",
   "mimetype": "text/x-python",
   "name": "python",
   "nbconvert_exporter": "python",
   "pygments_lexer": "ipython3",
   "version": "3.7.2"
  }
 },
 "nbformat": 4,
 "nbformat_minor": 2
}
